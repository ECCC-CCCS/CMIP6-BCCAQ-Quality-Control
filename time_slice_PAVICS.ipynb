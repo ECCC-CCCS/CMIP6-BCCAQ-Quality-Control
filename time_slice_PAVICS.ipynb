# -*- coding: utf-8 -*-
"""
Created on Wed Jan 26 10:11:01 2022

@author: VanVlietL
"""

import xarray as xr
from tqdm import tqdm
import matplotlib.pyplot as plt
import cftime
import threddsclient

scenarios = ['ssp126','ssp245','ssp585'] # All emission scenarios
models = ['ACCESS-CM2', 'ACCESS-ESM1-5', 'BCC-CSM2-MR', 'CMCC-ESM2', 'CNRM-CM6-1',
          'CNRM-ESM2-1', 'CanESM5', 'EC-Earth3-Veg', 'EC-Earth3', 'FGOALS-g3', 'GFDL-ESM4',
          'INM-CM4-8', 'INM-CM5-0', 'IPSL-CM6A-LR', 'KIOST-ESM',
          'MIROC-ES2L', 'MIROC6', 'MPI-ESM1-2-HR', 'MPI-ESM1-2-LR', 'MRI-ESM2-0', 'NorESM2-LM', 
          'NorESM2-MM', 'TaiESM1', 'HadGEM3-GC31-LL', 'UKESM1-0-LL', 'KACE-1-0-G']

variables = ['tasmax', 'tasmin', 'pr']
dates = ['2050-01-01', '2050-04-01', '2050-07-01']

def prep(ds):
   ssp = ds.encoding["source"].split('+')[-1][:6]
   ds = ds.assign_coords(ssp=ssp).expand_dims('ssp')   
   ds = ds.sel(time=slice('2050-01-01', '2051-01-01'))   
   return ds

for mod in tqdm(models):
    
    for var in tqdm(variables):
        url = f'https://pavics.ouranos.ca/twitcher/ows/proxy/thredds/catalog/birdhouse/pcic/CanDCS-U6/CMIP6_BCCAQv2/{mod}/catalog.html'
        ncfiles = threddsclient.opendap_urls(url) 
        ncfiles = [ds for ds in ncfiles if var + '_' in ds]
        
        if mod == 'CanESM5':
            ncfiles = [ds for ds in ncfiles if 'r1i1' in ds]
        
        fig, ax = plt.subplots(figsize=(25,20))
        plt.axis('off')
        i = 1
        
        for ssp in scenarios:
            
            flnm = [x for x in ncfiles if ssp in x]
            data = xr.open_dataset(flnm[0])                                                                  
    
            for tt in dates:
                pltdata = data[var].sel(time=tt).squeeze()
                ax = fig.add_subplot(3,3,i)
                im = ax.pcolormesh(data.lon, data.lat, pltdata, shading='auto')
                fig.colorbar(im)
                ax.set_xticklabels([])
                ax.set_yticklabels([])
                ax.set_title(f'{ssp} {tt}', fontsize=20, fontweight='bold')
                i = i + 1
                
        fig.suptitle(f'{mod} {var}', y=0.93)
        #fig.savefig(f'{OutputDataDir}/time_slice_figs_{mod}_{var}.jpg', bbox_inches='tight', dpi=90)
        fig.savefig(f'time_slice/{mod}_{var}.jpg', bbox_inches='tight', dpi=90)