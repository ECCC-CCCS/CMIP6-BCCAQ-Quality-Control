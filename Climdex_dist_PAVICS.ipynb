

import xarray as xr
from tqdm import tqdm
import matplotlib.pyplot as plt
import cftime
import threddsclient
from scipy import stats
import numpy as np
    
scenarios = ['ssp126','ssp245','ssp585'] # All emission scenarios

models = ['ACCESS-CM2', 'ACCESS-ESM1-5', 'BCC-CSM2-MR', 'CMCC-ESM2', 'CNRM-CM6-1',
          'CNRM-ESM2-1', 'CanESM5', 'EC-Earth3-Veg', 'EC-Earth3', 'FGOALS-g3', 'GFDL-ESM4',
          'INM-CM4-8', 'INM-CM5-0', 'IPSL-CM6A-LR', 'KIOST-ESM',
          'MIROC-ES2L', 'MIROC6', 'MPI-ESM1-2-HR', 'MPI-ESM1-2-LR', 'MRI-ESM2-0', 'NorESM2-LM', 
          'NorESM2-MM', 'TaiESM1', 'HadGEM3-GC31-LL', 'UKESM1-0-LL', 'KACE-1-0-G']
models = ['ACCESS-CM2',  'CanESM5', 'EC-Earth3-Veg', 'EC-Earth3', 'NorESM2-MM', 'TaiESM1', 'HadGEM3-GC31-LL']

var_dic = {'cddETCCDI':'Days','cwdETCCDI':'Days','fdETCCDI':'Days','gslETCCDI':'Days','idETCCDI':'Days','prcptotETCCDI':'Millimeter',
          'r10mmETCCDI':'Days','r1mmETCCDI':'Days','r20mmETCCDI':'Days','r95daysETCCDI':'Days','r95pETCCDI':'Millimeter','r99daysETCCDI':'Days',
          'r99pETCCDI':'Millimeter','sdiiETCCDI':'Millimeter','su30ETCCDI':'Days','suETCCDI':'Days','wsdiETCCDI':'Days','trETCCDI':'Days','dtrETCCDI':'°C','tn10pETCCDI':'%',
          'tn90pETCCDI':'%','tx10pETCCDI':'%','tx90pETCCDI':'%','tnnETCCDI':'°C','tnxETCCDI':'°C','rx1dayETCCDI':'Millimeter','rx2dayETCCDI':'Millimeter','rx5dayETCCDI':'Millimeter',
          'txnETCCDI':'°C','txxETCCDI':'°C', 'csdiETCCDI':'Days'}



for mod in tqdm(models):
    
    alls = {}
       
    #for var in tqdm(var_dic.keys()):
    var= 'r99pETCCDI'
    url = f'https://pavics.ouranos.ca/twitcher/ows/proxy/thredds/catalog/birdhouse/pcic/CanDCS-U6/CMIP6_BCCAQv2/{mod}/Derived/catalog.html'
    ncfiles = threddsclient.crawl(url, depth=2) 
    flnms = [ds for ds in ncfiles if var in ds.name]
    if mod == 'CanESM5':
        flnms = [ds for ds in flnms if 'r1i1' in ds.name]

    temp = {}

   # for ssp in scenarios:
    ssp = 'ssp585'
    flnm = [ds for ds in flnms if ssp in ds.name]
    d_fn = str(flnm[0].opendap_url())

    data = xr.open_dataset(d_fn, decode_times=False)                                                                  

    mean = data[var].mean(dim='time').rename('mean')
    skew = data[var].reduce(stats.skew, dim='time').rename('skew')
    sd = data[var].std(dim='time').rename('std')
    kurtosis = data[var].map(stats.kurtosis, dim='time').rename('kurtosis')
    IQR = data[var].reduce(stats.iqr, dim='time').rename('IQR')
    combine = xr.merge([mean, sd, skew, kurtosis, IQR])
    temp[ssp] = combine.assign_coords(ssp=ssp).expand_dims('ssp')   

    if ssp == 'ssp585':
        fig, axes = plt.subplots(figsize=(15,15))
        plt.axis('off')
        r,c = 3, 2

        def setup(title):
            ax.set_xticklabels([])
            ax.set_yticklabels([])
            ax.set_xlabel("")
            ax.set_ylabel("")
            ax.set_title(title)

        ax = fig.add_subplot(r,c,1)
        mean.plot(ax=ax)
        setup('Mean')

        ax = fig.add_subplot(r,c,2)
        sd.plot(ax=ax)
        setup('Standard deviation')

        ax = fig.add_subplot(r,c,3)
        (sd/mean).plot(ax=ax)
        setup('Coeff of variation')

        ax = fig.add_subplot(r,c,4)
        skew.plot(ax=ax)
        setup('Skew')

        ax = fig.add_subplot(r,c,5)
        kurtosis.plot(ax=ax)
        setup('Kurtosis')

        ax = fig.add_subplot(r,c,6)
        IQR.plot(ax=ax)
        setup('IQR')

        fig.suptitle(f'{mod} {var}', y=0.92, fontweight='bold')
        fig.savefig(f'distributions/{mod}_{var}.jpg', bbox_inches='tight', dpi=90)

  # alls[var] = xr.merge(temp.values()).assign_coords(var=var).expand_dims('var')  # combine all SSPs into one variable
   # xr.merge(alls.values).to_netcdf('distributions/'+mod+'.nc')